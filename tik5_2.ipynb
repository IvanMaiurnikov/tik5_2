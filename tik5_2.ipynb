{
  "nbformat": 4,
  "nbformat_minor": 0,
  "metadata": {
    "colab": {
      "name": "tik5_2.ipynb",
      "provenance": [],
      "authorship_tag": "ABX9TyPJA6QQCK/NSvo2tvxbFL7g",
      "include_colab_link": true
    },
    "kernelspec": {
      "name": "python3",
      "display_name": "Python 3"
    },
    "language_info": {
      "name": "python"
    }
  },
  "cells": [
    {
      "cell_type": "markdown",
      "metadata": {
        "id": "view-in-github",
        "colab_type": "text"
      },
      "source": [
        "<a href=\"https://colab.research.google.com/github/IvanMaiurnikov/tik5_2/blob/main/tik5_2.ipynb\" target=\"_parent\"><img src=\"https://colab.research.google.com/assets/colab-badge.svg\" alt=\"Open In Colab\"/></a>"
      ]
    },
    {
      "cell_type": "code",
      "metadata": {
        "id": "wTEK15tDU_Uv"
      },
      "source": [
        "import math\n",
        "import sys\n",
        "import matplotlib.pyplot as plt\n",
        "from collections import Counter\n",
        "\n",
        "string = input(\"Enter the string to compute Huffman Code: \")"
      ],
      "execution_count": null,
      "outputs": []
    }
  ]
}