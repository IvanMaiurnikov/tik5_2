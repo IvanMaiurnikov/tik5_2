{
  "nbformat": 4,
  "nbformat_minor": 0,
  "metadata": {
    "colab": {
      "name": "tik5_2.ipynb",
      "provenance": [],
      "collapsed_sections": [],
      "include_colab_link": true
    },
    "kernelspec": {
      "name": "python3",
      "display_name": "Python 3"
    },
    "language_info": {
      "name": "python"
    }
  },
  "cells": [
    {
      "cell_type": "markdown",
      "metadata": {
        "id": "view-in-github",
        "colab_type": "text"
      },
      "source": [
        "<a href=\"https://colab.research.google.com/github/IvanMaiurnikov/tik5_2/blob/main/tik5_2.ipynb\" target=\"_parent\"><img src=\"https://colab.research.google.com/assets/colab-badge.svg\" alt=\"Open In Colab\"/></a>"
      ]
    },
    {
      "cell_type": "code",
      "metadata": {
        "id": "wTEK15tDU_Uv",
        "colab": {
          "base_uri": "https://localhost:8080/"
        },
        "outputId": "9ea59b92-ecd4-426f-af0c-fa785a27630d"
      },
      "source": [
        "from collections import Counter\n",
        "from decimal import Decimal\n",
        "f_list = []\n",
        "p_t = {}\n",
        "class arythmetic_encode:\n",
        "\n",
        "    def __init__(self, frequency_table):\n",
        "        self.probability_table = self.get_probability_table(frequency_table)\n",
        "\n",
        "\n",
        "    def get_probability_table(self, frequency_table):\n",
        "        \"\"\"\n",
        "        Calculates the probability table out of the frequency table.\n",
        "        frequency_table: A table of the term frequencies.\n",
        "        Returns the probability table.\n",
        "        \"\"\"\n",
        "        di = dict(frequency_table) #convert list of tuples to a dictionary\n",
        "\n",
        "        freq_sum = sum(list(di.values()))\n",
        "\n",
        "        probability_table = {}\n",
        "        for k, v in di.items():\n",
        "            probability_table[k] = float(\"{:.2f}\".format(v/freq_sum))\n",
        "\n",
        "        return probability_table\n",
        "\n",
        "        \"\"\"\n",
        "        @DESCR: After encoding the entire message, this method returns the single value that represents the entire message.\n",
        "        @ARGS:  last_stage_probs - a list of the probabilities in the last stage.\n",
        "        @RET:   The minimum and maximum probabilites in the last stage in addition to the value encoding the message.\n",
        "        \"\"\"\n",
        "    def get_encoded_value(self, last_stage_probs):\n",
        "        last_stage_probs = list(last_stage_probs[-1].values())\n",
        "        last_stage_values = []\n",
        "        for sublist in last_stage_probs:\n",
        "            for element in sublist:\n",
        "                last_stage_values.append(element)\n",
        "\n",
        "        last_stage_min = min(last_stage_values)\n",
        "        last_stage_max = max(last_stage_values) \n",
        "        return (last_stage_min + last_stage_max)/2\n",
        "\n",
        "    def process_stage(self, probability_table, stage_min, stage_max):\n",
        "        \"\"\"\n",
        "        Processing a stage in the encoding/decoding process.\n",
        "        \"\"\"\n",
        "        stage_probs = {}\n",
        "        stage_domain = stage_max - stage_min\n",
        "        for term_idx in range(len(probability_table.items())):\n",
        "            term = list(probability_table.keys())[term_idx]\n",
        "            term_prob = Decimal(probability_table[term])\n",
        "            cum_prob = term_prob * stage_domain + stage_min\n",
        "            #stage_probs[term] = [float(\"{:.2f}\".format(stage_min)), float(\"{:.2f}\".format(cum_prob))]\n",
        "            stage_probs[term] = [stage_min, cum_prob]\n",
        "            stage_min = cum_prob\n",
        "        return stage_probs\n",
        "\n",
        "    def encode(self, msg, probability_table):\n",
        "        \"\"\"\n",
        "        Encodes a message.\n",
        "        \"\"\"\n",
        "\n",
        "        encoder = []\n",
        "    \n",
        "        stage_min = Decimal(0.0)\n",
        "        stage_max = Decimal(1.0)\n",
        "\n",
        "        for msg_term_idx in range(len(msg)):\n",
        "            stage_probs = self.process_stage(probability_table, stage_min, stage_max)\n",
        "\n",
        "            msg_term = msg[msg_term_idx]\n",
        "            stage_min = stage_probs[msg_term][0]\n",
        "            stage_max = stage_probs[msg_term][1]\n",
        "\n",
        "            encoder.append(stage_probs)\n",
        "\n",
        "        stage_probs = self.process_stage(probability_table, stage_min, stage_max)\n",
        "        encoder.append(stage_probs)\n",
        "        encoded_msg = self.get_encoded_value(encoder)\n",
        "\n",
        "        return encoder, encoded_msg\n",
        "\n",
        "        \"\"\"\n",
        "        Decodes a message.\n",
        "        \"\"\"\n",
        "    def decode(self, encoded_msg, msg_length, probability_table):\n",
        "\n",
        "        decoder = []\n",
        "        decoded_msg = \"\"\n",
        "\n",
        "        stage_min = Decimal(0.0)\n",
        "        stage_max = Decimal(1.0)\n",
        "\n",
        "        for idx in range(msg_length):\n",
        "            stage_probs = self.process_stage(probability_table, stage_min, stage_max)\n",
        "\n",
        "            for msg_term, value in stage_probs.items():\n",
        "                if encoded_msg >= value[0] and encoded_msg <= value[1]:\n",
        "                    break\n",
        "\n",
        "            decoded_msg = decoded_msg + msg_term\n",
        "            stage_min = stage_probs[msg_term][0]\n",
        "            stage_max = stage_probs[msg_term][1]\n",
        "\n",
        "            decoder.append(stage_probs)\n",
        "\n",
        "        stage_probs = self.process_stage(probability_table, stage_min, stage_max)\n",
        "        decoder.append(stage_probs)\n",
        "\n",
        "        return decoder, decoded_msg\n",
        "\n",
        "\"\"\"\n",
        "\n",
        "\"\"\"\n",
        "\n",
        "str_in = input(\"Enter the string to compute in Arythmetic Code: \")\n",
        "\n",
        "f_list = Counter(str_in).most_common()\n",
        "a_e = arythmetic_encode(frequency_table=f_list)\n",
        "p_t=a_e.get_probability_table\n",
        "encoder, encoded_msg = a_e.encode(msg=str_in, probability_table=a_e.probability_table)\n",
        "print(\"Encoded Message: {msg}\".format(msg=encoded_msg))\n",
        "\n",
        "decoder, decoded_msg = a_e.decode(encoded_msg=encoded_msg, \n",
        "                                  msg_length=len(str_in),\n",
        "                                  probability_table=a_e.probability_table)\n",
        "print(\"Decoded Message: {msg}\".format(msg=decoded_msg))"
      ],
      "execution_count": null,
      "outputs": [
        {
          "output_type": "stream",
          "name": "stdout",
          "text": [
            "Enter the string to compute in Arythmetic Code: hsdfjk 121212\n",
            "Encoded Message: 0.507561414436128194038597430\n",
            "Decoded Message: hsdfjk 121212\n"
          ]
        }
      ]
    },
    {
      "cell_type": "code",
      "metadata": {
        "id": "l1heqAGMgqSf"
      },
      "source": [
        "chnsyf GAUHL"
      ],
      "execution_count": null,
      "outputs": []
    }
  ]
}